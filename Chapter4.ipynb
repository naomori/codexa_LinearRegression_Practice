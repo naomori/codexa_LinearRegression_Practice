{
  "nbformat": 4,
  "nbformat_minor": 0,
  "metadata": {
    "colab": {
      "name": "Chapter4.ipynb",
      "version": "0.3.2",
      "provenance": [],
      "include_colab_link": true
    },
    "kernelspec": {
      "name": "python3",
      "display_name": "Python 3"
    }
  },
  "cells": [
    {
      "cell_type": "markdown",
      "metadata": {
        "id": "view-in-github",
        "colab_type": "text"
      },
      "source": [
        "<a href=\"https://colab.research.google.com/github/naomori/codexa_LinearRegression_Practice/blob/master/Chapter4.ipynb\" target=\"_parent\"><img src=\"https://colab.research.google.com/assets/colab-badge.svg\" alt=\"Open In Colab\"/></a>"
      ]
    },
    {
      "cell_type": "markdown",
      "metadata": {
        "id": "URPMIT0QCy75",
        "colab_type": "text"
      },
      "source": [
        "# 最小二乗法を使って線形回帰モデルを構築\n",
        "\n"
      ]
    },
    {
      "cell_type": "markdown",
      "metadata": {
        "id": "lOsGwUa4DT6z",
        "colab_type": "text"
      },
      "source": [
        "## ライブラリのインポート"
      ]
    },
    {
      "cell_type": "code",
      "metadata": {
        "id": "WMnVtTqxCxc6",
        "colab_type": "code",
        "colab": {}
      },
      "source": [
        "import numpy as np\n",
        "import pandas as pd\n",
        "import matplotlib.pyplot as plt"
      ],
      "execution_count": 0,
      "outputs": []
    },
    {
      "cell_type": "markdown",
      "metadata": {
        "id": "ggt2MR2sDYOO",
        "colab_type": "text"
      },
      "source": [
        "## データセットの準備と確認"
      ]
    },
    {
      "cell_type": "code",
      "metadata": {
        "id": "zXzzsK-DC8Bx",
        "colab_type": "code",
        "colab": {
          "base_uri": "https://localhost:8080/",
          "height": 34
        },
        "outputId": "9c9d8a7f-1150-4480-a131-4d7ddf747f6b"
      },
      "source": [
        "!ls"
      ],
      "execution_count": 4,
      "outputs": [
        {
          "output_type": "stream",
          "text": [
            "sample_data  slr06.csv\tslr06.xls\n"
          ],
          "name": "stdout"
        }
      ]
    },
    {
      "cell_type": "code",
      "metadata": {
        "id": "Pez0ImKcDAbH",
        "colab_type": "code",
        "colab": {
          "base_uri": "https://localhost:8080/",
          "height": 195
        },
        "outputId": "25208d34-301a-41b2-d235-8edd82cad130"
      },
      "source": [
        "data = pd.read_csv('slr06.csv')\n",
        "data.head()"
      ],
      "execution_count": 5,
      "outputs": [
        {
          "output_type": "execute_result",
          "data": {
            "text/html": [
              "<div>\n",
              "<style scoped>\n",
              "    .dataframe tbody tr th:only-of-type {\n",
              "        vertical-align: middle;\n",
              "    }\n",
              "\n",
              "    .dataframe tbody tr th {\n",
              "        vertical-align: top;\n",
              "    }\n",
              "\n",
              "    .dataframe thead th {\n",
              "        text-align: right;\n",
              "    }\n",
              "</style>\n",
              "<table border=\"1\" class=\"dataframe\">\n",
              "  <thead>\n",
              "    <tr style=\"text-align: right;\">\n",
              "      <th></th>\n",
              "      <th>X</th>\n",
              "      <th>Y</th>\n",
              "    </tr>\n",
              "  </thead>\n",
              "  <tbody>\n",
              "    <tr>\n",
              "      <th>0</th>\n",
              "      <td>108</td>\n",
              "      <td>392.5</td>\n",
              "    </tr>\n",
              "    <tr>\n",
              "      <th>1</th>\n",
              "      <td>19</td>\n",
              "      <td>46.2</td>\n",
              "    </tr>\n",
              "    <tr>\n",
              "      <th>2</th>\n",
              "      <td>13</td>\n",
              "      <td>15.7</td>\n",
              "    </tr>\n",
              "    <tr>\n",
              "      <th>3</th>\n",
              "      <td>124</td>\n",
              "      <td>422.2</td>\n",
              "    </tr>\n",
              "    <tr>\n",
              "      <th>4</th>\n",
              "      <td>40</td>\n",
              "      <td>119.4</td>\n",
              "    </tr>\n",
              "  </tbody>\n",
              "</table>\n",
              "</div>"
            ],
            "text/plain": [
              "     X      Y\n",
              "0  108  392.5\n",
              "1   19   46.2\n",
              "2   13   15.7\n",
              "3  124  422.2\n",
              "4   40  119.4"
            ]
          },
          "metadata": {
            "tags": []
          },
          "execution_count": 5
        }
      ]
    },
    {
      "cell_type": "code",
      "metadata": {
        "id": "U-gzkSZBDuR9",
        "colab_type": "code",
        "colab": {
          "base_uri": "https://localhost:8080/",
          "height": 269
        },
        "outputId": "903bdfed-e1bd-419a-995e-a4264fe6aa42"
      },
      "source": [
        "plt.plot(data['X'], data['Y'], 'rx')\n",
        "plt.grid(True)\n",
        "plt.show()"
      ],
      "execution_count": 6,
      "outputs": [
        {
          "output_type": "display_data",
          "data": {
            "image/png": "[encoded data removed]",
            "text/plain": [
              "<Figure size 432x288 with 1 Axes>"
            ]
          },
          "metadata": {
            "tags": []
          }
        }
      ]
    },
    {
      "cell_type": "code",
      "metadata": {
        "id": "ZPkJZ4jBEZ4Y",
        "colab_type": "code",
        "colab": {
          "base_uri": "https://localhost:8080/",
          "height": 34
        },
        "outputId": "2e14ab2f-4aae-4a6c-ade5-635818a48f0e"
      },
      "source": [
        "x = data['X']\n",
        "y = data['Y']\n",
        "x.shape, y.shape"
      ],
      "execution_count": 7,
      "outputs": [
        {
          "output_type": "execute_result",
          "data": {
            "text/plain": [
              "((63,), (63,))"
            ]
          },
          "metadata": {
            "tags": []
          },
          "execution_count": 7
        }
      ]
    },
    {
      "cell_type": "markdown",
      "metadata": {
        "id": "7Xn3QKs4De8Y",
        "colab_type": "text"
      },
      "source": [
        "## Section.3: 最小二乗法を使ってみる\n",
        "\n",
        "$y = w_1x + w_0$\n",
        "\n",
        "$w_1 = \\frac{共分散(x,y)}{分散(x)^2}$\n",
        "\n",
        "$w_0 = \\overline{y} - w_1\\overline{x}$\n",
        "\n",
        "まず、$w_1$ を求めて、その後で $w_0$ を求める。"
      ]
    },
    {
      "cell_type": "code",
      "metadata": {
        "id": "VeT7CdylDIjv",
        "colab_type": "code",
        "colab": {
          "base_uri": "https://localhost:8080/",
          "height": 52
        },
        "outputId": "e5272c8e-9d6f-4aa7-ff02-8296af68e301"
      },
      "source": [
        "mean_x = np.mean(x)\n",
        "mean_y = np.mean(y)\n",
        "\n",
        "print(mean_x)\n",
        "print(mean_y)"
      ],
      "execution_count": 8,
      "outputs": [
        {
          "output_type": "stream",
          "text": [
            "22.904761904761905\n",
            "98.18730158730159\n"
          ],
          "name": "stdout"
        }
      ]
    },
    {
      "cell_type": "code",
      "metadata": {
        "id": "wvlaDOpxFhRN",
        "colab_type": "code",
        "colab": {
          "base_uri": "https://localhost:8080/",
          "height": 34
        },
        "outputId": "d7848ad8-7a39-43e4-ad0f-c3a6f253649d"
      },
      "source": [
        "n = len(x)\n",
        "print(n)"
      ],
      "execution_count": 10,
      "outputs": [
        {
          "output_type": "stream",
          "text": [
            "63\n"
          ],
          "name": "stdout"
        }
      ]
    },
    {
      "cell_type": "code",
      "metadata": {
        "id": "1lO1KgrdFjKe",
        "colab_type": "code",
        "colab": {}
      },
      "source": [
        "covariance = 0\n",
        "variance = 0"
      ],
      "execution_count": 0,
      "outputs": []
    },
    {
      "cell_type": "code",
      "metadata": {
        "id": "WW0LTPgjFpY-",
        "colab_type": "code",
        "colab": {
          "base_uri": "https://localhost:8080/",
          "height": 34
        },
        "outputId": "7a83d36e-6d54-4eb9-db80-e1164799d76e"
      },
      "source": [
        "for i in range(n):\n",
        "  covariance += (1/n) * (x[i] - mean_x) * (y[i] - mean_y)\n",
        "  variance += (1/n) * (x[i] - mean_x)**2\n",
        "w1 = covariance / variance\n",
        "print(w1)"
      ],
      "execution_count": 12,
      "outputs": [
        {
          "output_type": "stream",
          "text": [
            "3.413823560066365\n"
          ],
          "name": "stdout"
        }
      ]
    },
    {
      "cell_type": "markdown",
      "metadata": {
        "id": "5stvLpQoF7JZ",
        "colab_type": "text"
      },
      "source": [
        "$w_0 = \\overline{y} - w_1\\overline{x}$"
      ]
    },
    {
      "cell_type": "code",
      "metadata": {
        "id": "oA5xyhV1F5b5",
        "colab_type": "code",
        "colab": {
          "base_uri": "https://localhost:8080/",
          "height": 34
        },
        "outputId": "08509600-0788-4486-efd5-8d6b23799a89"
      },
      "source": [
        "w0 = mean_y - (w1 * mean_x)\n",
        "print(w0)"
      ],
      "execution_count": 14,
      "outputs": [
        {
          "output_type": "stream",
          "text": [
            "19.994485759114852\n"
          ],
          "name": "stdout"
        }
      ]
    },
    {
      "cell_type": "markdown",
      "metadata": {
        "id": "wTtn3fp4GI_S",
        "colab_type": "text"
      },
      "source": [
        "$保険金支払総額 = 3.414 \\times 保険金請求件数 + 19.994$"
      ]
    },
    {
      "cell_type": "markdown",
      "metadata": {
        "id": "2GilZ2QqGSw5",
        "colab_type": "text"
      },
      "source": [
        "## Section.4: モデルを使って予測と評価"
      ]
    },
    {
      "cell_type": "code",
      "metadata": {
        "id": "hmJvloEMGDbg",
        "colab_type": "code",
        "colab": {
          "base_uri": "https://localhost:8080/",
          "height": 283
        },
        "outputId": "75a3b2e2-588f-45ba-b979-2c3e701c9557"
      },
      "source": [
        "plt.plot(data['X'], data['Y'], 'rx')\n",
        "plt.plot(data['X'], data['X'] * w1 + w0, 'b-')\n",
        "plt.xlabel('Number of Claims')\n",
        "plt.ylabel('Total Pyment(SEK)')\n",
        "plt.grid(True)\n",
        "plt.show()"
      ],
      "execution_count": 15,
      "outputs": [
        {
          "output_type": "display_data",
          "data": {
            "image/png": "[encoded data removed]",
            "text/plain": [
              "<Figure size 432x288 with 1 Axes>"
            ]
          },
          "metadata": {
            "tags": []
          }
        }
      ]
    },
    {
      "cell_type": "code",
      "metadata": {
        "id": "mJKJ3t_OGkAH",
        "colab_type": "code",
        "colab": {
          "base_uri": "https://localhost:8080/",
          "height": 34
        },
        "outputId": "ee918a1b-03e2-429a-9c3a-b22ad9bc1640"
      },
      "source": [
        "# 保険金請求が 90 件あった場合の保険金支払い総額の予測\n",
        "\n",
        "pred = w1 * 90 + w0\n",
        "print(pred)"
      ],
      "execution_count": 16,
      "outputs": [
        {
          "output_type": "stream",
          "text": [
            "327.23860616508773\n"
          ],
          "name": "stdout"
        }
      ]
    },
    {
      "cell_type": "markdown",
      "metadata": {
        "id": "JrhtCw1uG6bH",
        "colab_type": "text"
      },
      "source": [
        "### 線形モデル式の評価\n",
        "\n",
        "Root Mean Square Error (RMSE) を、導出した線形モデル式の評価に用いる。  \n",
        "評価には様々な手法があるが、今回は**RMSE**を使ってみる。\n",
        "\n",
        "RMSE: 平均二乗誤差：残差（予測値と実際値の誤差）の標準偏差\n",
        "\n",
        "RMSE は「線形モデルの直線がデータに対してどれだけフィットしているか」を表す。\n",
        "\n",
        "$RMSE = \\sqrt{\\sum_{n=1}^n}\\frac{1}{n}(\\hat{y}-y_i)^2$\n",
        "\n",
        "* $\\hat{y}_i$: i番目の予測値\n",
        "* $y_i$: i番目の実際値\n",
        "\n"
      ]
    },
    {
      "cell_type": "code",
      "metadata": {
        "id": "_FpTTaMYG2Sy",
        "colab_type": "code",
        "colab": {
          "base_uri": "https://localhost:8080/",
          "height": 34
        },
        "outputId": "3b2bffe8-64cb-4c85-b0ea-f4bced3438b0"
      },
      "source": [
        "# RMSE\n",
        "\n",
        "rmse = 0\n",
        "for i in range(n):\n",
        "  y_pred = w1 * x[i] + w0\n",
        "  rmse += (y_pred - y[i]) ** 2\n",
        "rmse = np.sqrt(rmse / n)\n",
        "print(rmse)"
      ],
      "execution_count": 17,
      "outputs": [
        {
          "output_type": "stream",
          "text": [
            "35.36582996879147\n"
          ],
          "name": "stdout"
        }
      ]
    },
    {
      "cell_type": "code",
      "metadata": {
        "id": "clSPm4LGIOAF",
        "colab_type": "code",
        "colab": {}
      },
      "source": [
        ""
      ],
      "execution_count": 0,
      "outputs": []
    }
  ]
}