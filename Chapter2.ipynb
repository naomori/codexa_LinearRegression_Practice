{
  "nbformat": 4,
  "nbformat_minor": 0,
  "metadata": {
    "colab": {
      "name": "Chapter2.ipynb",
      "version": "0.3.2",
      "provenance": [],
      "include_colab_link": true
    },
    "kernelspec": {
      "name": "python3",
      "display_name": "Python 3"
    }
  },
  "cells": [
    {
      "cell_type": "markdown",
      "metadata": {
        "id": "view-in-github",
        "colab_type": "text"
      },
      "source": [
        "<a href=\"https://colab.research.google.com/github/naomori/codexa_LinearRegression_Practice/blob/master/Chapter2.ipynb\" target=\"_parent\"><img src=\"https://colab.research.google.com/assets/colab-badge.svg\" alt=\"Open In Colab\"/></a>"
      ]
    },
    {
      "cell_type": "markdown",
      "metadata": {
        "id": "UlAhFYF20Cji",
        "colab_type": "text"
      },
      "source": [
        "# 1. 線形回帰とは？\n",
        "\n",
        "各条件と予測をしたい値の関係性を利用して、\n",
        "新しいデータの条件から値を予測手法のこと。\n",
        "\n",
        "# 2. 線形回帰で出てくる用語/名称\n",
        "\n",
        "* 線形回帰：Linear regression\n",
        "* 特徴量：Feature\n",
        "  - 物事の因果関係における原因\n",
        "  - 予測する値を「説明する」変数\n",
        "  - 「説明変数」「従属変数」とも呼ばれる\n",
        "* 目的変数\n",
        "  - 特徴量に説明される変数\n",
        "  - 「ターゲット」「独立変数」とも呼ばれる\n",
        "* 教師データ\n",
        "  - 特徴量と目的変数がセットになっているもの\n",
        "  - 学習アルゴリズムがデータに潜在する特徴を捉え、\n",
        "    新しい入力データに対して予測を行うためのデータ\n",
        "  - 「訓練データ」「トレーニングデータ」とも呼ばれる\n",
        "* 単回帰分析：Simple Linear Regression\n",
        "  - １つの特徴量からターゲットを予測すること\n",
        "* 重回帰分析：Multiple Linear Regression\n",
        "  - 複数（２つ以上）の特徴量からターゲットを予測すること\n",
        "* 線形モデル\n",
        "  - 特徴量に対して数学的な説明を行い、線形モデルを使うことで新しいデータから予測を行う\n",
        "  - 「線形回帰モデル」「回帰モデル」とも呼ばれる\n",
        "* 係数: coefficient\n",
        "  - 特徴量が目的変数にどのくらい影響を与えるかを表す数値\n",
        "  - モデルの数式のすべての係数を「モデル式のパラメタ」とも呼ばれる\n",
        "* 定数項: Constant/Y-Intercept\n",
        "  - 線形モデルの数式で特徴量の変動に影響を受けない定数項\n",
        "  - 「Y切片」とも呼ばれる"
      ]
    },
    {
      "cell_type": "markdown",
      "metadata": {
        "id": "lKotq-262M1j",
        "colab_type": "text"
      },
      "source": [
        "# 3. 線形回帰の実例\n",
        "\n",
        "1. 売上予測\n",
        "2. 人事採用\n",
        "\n",
        "など"
      ]
    },
    {
      "cell_type": "code",
      "metadata": {
        "id": "DoIHrLm3ut_m",
        "colab_type": "code",
        "colab": {}
      },
      "source": [
        ""
      ],
      "execution_count": 0,
      "outputs": []
    }
  ]
}